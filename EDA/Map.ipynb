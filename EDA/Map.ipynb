{
 "cells": [
  {
   "cell_type": "markdown",
   "metadata": {},
   "source": [
    "# Map\n",
    "### Objective: Create a map of the regions and color the regions based on the number of stolen vehicles\n",
    "Source:\n",
    "* https://cartographyvectors.com/map/1491-new-zealand-with-regions\n",
    "* https://towardsdatascience.com/plot-choropleth-maps-with-shapefiles-using-geopandas-a6bf6ade0a49\n",
    "* https://koordinates.com/layer/105480-nz-police-district-boundaries-29-april-2021/"
   ]
  },
  {
   "cell_type": "code",
   "execution_count": 1,
   "metadata": {},
   "outputs": [],
   "source": [
    "import os\n",
    "import pandas as pd\n",
    "\n",
    "# Set the environment variable\n",
    "os.environ[\"CRYPTOGRAPHY_OPENSSL_NO_LEGACY\"] = \"1\"\n",
    "\n",
    "\n",
    "import geopandas as gpd\n",
    "\n",
    "from pathlib import Path\n",
    "import pyproj"
   ]
  },
  {
   "cell_type": "code",
   "execution_count": 2,
   "metadata": {},
   "outputs": [],
   "source": [
    "from api_keys import api_key_geoapify"
   ]
  },
  {
   "cell_type": "markdown",
   "metadata": {},
   "source": [
    "## Density mapbox"
   ]
  },
  {
   "cell_type": "code",
   "execution_count": 3,
   "metadata": {},
   "outputs": [
    {
     "data": {
      "text/html": [
       "<div>\n",
       "<style scoped>\n",
       "    .dataframe tbody tr th:only-of-type {\n",
       "        vertical-align: middle;\n",
       "    }\n",
       "\n",
       "    .dataframe tbody tr th {\n",
       "        vertical-align: top;\n",
       "    }\n",
       "\n",
       "    .dataframe thead th {\n",
       "        text-align: right;\n",
       "    }\n",
       "</style>\n",
       "<table border=\"1\" class=\"dataframe\">\n",
       "  <thead>\n",
       "    <tr style=\"text-align: right;\">\n",
       "      <th></th>\n",
       "      <th>region</th>\n",
       "      <th>population</th>\n",
       "      <th>density</th>\n",
       "      <th>stolen</th>\n",
       "      <th>latitude</th>\n",
       "      <th>longitude</th>\n",
       "    </tr>\n",
       "  </thead>\n",
       "  <tbody>\n",
       "    <tr>\n",
       "      <th>0</th>\n",
       "      <td>Auckland</td>\n",
       "      <td>1695200</td>\n",
       "      <td>343.09</td>\n",
       "      <td>1638</td>\n",
       "      <td>0</td>\n",
       "      <td>0</td>\n",
       "    </tr>\n",
       "    <tr>\n",
       "      <th>1</th>\n",
       "      <td>Canterbury</td>\n",
       "      <td>655000</td>\n",
       "      <td>14.72</td>\n",
       "      <td>660</td>\n",
       "      <td>0</td>\n",
       "      <td>0</td>\n",
       "    </tr>\n",
       "    <tr>\n",
       "      <th>2</th>\n",
       "      <td>Bay of Plenty</td>\n",
       "      <td>347700</td>\n",
       "      <td>28.80</td>\n",
       "      <td>446</td>\n",
       "      <td>0</td>\n",
       "      <td>0</td>\n",
       "    </tr>\n",
       "    <tr>\n",
       "      <th>3</th>\n",
       "      <td>Wellington</td>\n",
       "      <td>543500</td>\n",
       "      <td>67.52</td>\n",
       "      <td>420</td>\n",
       "      <td>0</td>\n",
       "      <td>0</td>\n",
       "    </tr>\n",
       "    <tr>\n",
       "      <th>4</th>\n",
       "      <td>Waikato</td>\n",
       "      <td>513800</td>\n",
       "      <td>21.50</td>\n",
       "      <td>371</td>\n",
       "      <td>0</td>\n",
       "      <td>0</td>\n",
       "    </tr>\n",
       "    <tr>\n",
       "      <th>5</th>\n",
       "      <td>Northland</td>\n",
       "      <td>201500</td>\n",
       "      <td>16.11</td>\n",
       "      <td>234</td>\n",
       "      <td>0</td>\n",
       "      <td>0</td>\n",
       "    </tr>\n",
       "    <tr>\n",
       "      <th>6</th>\n",
       "      <td>Gisborne</td>\n",
       "      <td>52100</td>\n",
       "      <td>6.21</td>\n",
       "      <td>176</td>\n",
       "      <td>0</td>\n",
       "      <td>0</td>\n",
       "    </tr>\n",
       "    <tr>\n",
       "      <th>7</th>\n",
       "      <td>Otago</td>\n",
       "      <td>246000</td>\n",
       "      <td>7.89</td>\n",
       "      <td>139</td>\n",
       "      <td>0</td>\n",
       "      <td>0</td>\n",
       "    </tr>\n",
       "    <tr>\n",
       "      <th>8</th>\n",
       "      <td>Manawatū-Whanganui</td>\n",
       "      <td>258200</td>\n",
       "      <td>11.62</td>\n",
       "      <td>139</td>\n",
       "      <td>0</td>\n",
       "      <td>0</td>\n",
       "    </tr>\n",
       "    <tr>\n",
       "      <th>9</th>\n",
       "      <td>Taranaki</td>\n",
       "      <td>127300</td>\n",
       "      <td>17.55</td>\n",
       "      <td>112</td>\n",
       "      <td>0</td>\n",
       "      <td>0</td>\n",
       "    </tr>\n",
       "    <tr>\n",
       "      <th>10</th>\n",
       "      <td>Hawke's Bay</td>\n",
       "      <td>182700</td>\n",
       "      <td>12.92</td>\n",
       "      <td>100</td>\n",
       "      <td>0</td>\n",
       "      <td>0</td>\n",
       "    </tr>\n",
       "    <tr>\n",
       "      <th>11</th>\n",
       "      <td>Nelson</td>\n",
       "      <td>54500</td>\n",
       "      <td>129.15</td>\n",
       "      <td>92</td>\n",
       "      <td>0</td>\n",
       "      <td>0</td>\n",
       "    </tr>\n",
       "    <tr>\n",
       "      <th>12</th>\n",
       "      <td>Southland</td>\n",
       "      <td>102400</td>\n",
       "      <td>3.28</td>\n",
       "      <td>26</td>\n",
       "      <td>0</td>\n",
       "      <td>0</td>\n",
       "    </tr>\n",
       "  </tbody>\n",
       "</table>\n",
       "</div>"
      ],
      "text/plain": [
       "                region  population  density  stolen  latitude  longitude\n",
       "0             Auckland     1695200   343.09    1638         0          0\n",
       "1           Canterbury      655000    14.72     660         0          0\n",
       "2        Bay of Plenty      347700    28.80     446         0          0\n",
       "3           Wellington      543500    67.52     420         0          0\n",
       "4              Waikato      513800    21.50     371         0          0\n",
       "5            Northland      201500    16.11     234         0          0\n",
       "6             Gisborne       52100     6.21     176         0          0\n",
       "7                Otago      246000     7.89     139         0          0\n",
       "8   Manawatū-Whanganui      258200    11.62     139         0          0\n",
       "9             Taranaki      127300    17.55     112         0          0\n",
       "10         Hawke's Bay      182700    12.92     100         0          0\n",
       "11              Nelson       54500   129.15      92         0          0\n",
       "12           Southland      102400     3.28      26         0          0"
      ]
     },
     "execution_count": 3,
     "metadata": {},
     "output_type": "execute_result"
    }
   ],
   "source": [
    "# Read data file\n",
    "top_regions = pd.read_csv('../Data/top_regions.csv')\n",
    "top_regions['latitude'] = 0\n",
    "top_regions['longitude'] = 0\n",
    "top_regions"
   ]
  },
  {
   "cell_type": "code",
   "execution_count": 4,
   "metadata": {},
   "outputs": [],
   "source": [
    "# Dependencies\n",
    "import requests\n",
    "import json\n",
    "\n",
    "from pprint import pprint\n",
    "\n",
    "# Import the API key\n",
    "from api_keys import api_key_geoapify"
   ]
  },
  {
   "cell_type": "code",
   "execution_count": 5,
   "metadata": {},
   "outputs": [
    {
     "name": "stdout",
     "output_type": "stream",
     "text": [
      "Auckland\n",
      "Canterbury\n",
      "Bay of Plenty\n",
      "Wellington\n",
      "Waikato\n",
      "Northland\n",
      "Gisborne\n",
      "Otago\n",
      "Manawatū-Whanganui\n",
      "Taranaki\n",
      "Hawke's Bay\n",
      "Nelson\n",
      "Southland\n"
     ]
    },
    {
     "data": {
      "text/html": [
       "<div>\n",
       "<style scoped>\n",
       "    .dataframe tbody tr th:only-of-type {\n",
       "        vertical-align: middle;\n",
       "    }\n",
       "\n",
       "    .dataframe tbody tr th {\n",
       "        vertical-align: top;\n",
       "    }\n",
       "\n",
       "    .dataframe thead th {\n",
       "        text-align: right;\n",
       "    }\n",
       "</style>\n",
       "<table border=\"1\" class=\"dataframe\">\n",
       "  <thead>\n",
       "    <tr style=\"text-align: right;\">\n",
       "      <th></th>\n",
       "      <th>region</th>\n",
       "      <th>population</th>\n",
       "      <th>density</th>\n",
       "      <th>stolen</th>\n",
       "      <th>latitude</th>\n",
       "      <th>longitude</th>\n",
       "    </tr>\n",
       "  </thead>\n",
       "  <tbody>\n",
       "    <tr>\n",
       "      <th>0</th>\n",
       "      <td>Auckland</td>\n",
       "      <td>1695200</td>\n",
       "      <td>343.09</td>\n",
       "      <td>1638</td>\n",
       "      <td>-36.852095</td>\n",
       "      <td>174.763180</td>\n",
       "    </tr>\n",
       "    <tr>\n",
       "      <th>1</th>\n",
       "      <td>Canterbury</td>\n",
       "      <td>655000</td>\n",
       "      <td>14.72</td>\n",
       "      <td>660</td>\n",
       "      <td>-43.494176</td>\n",
       "      <td>171.809845</td>\n",
       "    </tr>\n",
       "    <tr>\n",
       "      <th>2</th>\n",
       "      <td>Bay of Plenty</td>\n",
       "      <td>347700</td>\n",
       "      <td>28.80</td>\n",
       "      <td>446</td>\n",
       "      <td>-37.950376</td>\n",
       "      <td>176.938287</td>\n",
       "    </tr>\n",
       "    <tr>\n",
       "      <th>3</th>\n",
       "      <td>Wellington</td>\n",
       "      <td>543500</td>\n",
       "      <td>67.52</td>\n",
       "      <td>420</td>\n",
       "      <td>-41.288795</td>\n",
       "      <td>174.777211</td>\n",
       "    </tr>\n",
       "    <tr>\n",
       "      <th>4</th>\n",
       "      <td>Waikato</td>\n",
       "      <td>513800</td>\n",
       "      <td>21.50</td>\n",
       "      <td>371</td>\n",
       "      <td>-37.779227</td>\n",
       "      <td>175.201032</td>\n",
       "    </tr>\n",
       "    <tr>\n",
       "      <th>5</th>\n",
       "      <td>Northland</td>\n",
       "      <td>201500</td>\n",
       "      <td>16.11</td>\n",
       "      <td>234</td>\n",
       "      <td>-41.282339</td>\n",
       "      <td>174.757356</td>\n",
       "    </tr>\n",
       "    <tr>\n",
       "      <th>6</th>\n",
       "      <td>Gisborne</td>\n",
       "      <td>52100</td>\n",
       "      <td>6.21</td>\n",
       "      <td>176</td>\n",
       "      <td>-38.661326</td>\n",
       "      <td>178.020649</td>\n",
       "    </tr>\n",
       "    <tr>\n",
       "      <th>7</th>\n",
       "      <td>Otago</td>\n",
       "      <td>246000</td>\n",
       "      <td>7.89</td>\n",
       "      <td>139</td>\n",
       "      <td>-45.397505</td>\n",
       "      <td>170.177892</td>\n",
       "    </tr>\n",
       "    <tr>\n",
       "      <th>8</th>\n",
       "      <td>Manawatū-Whanganui</td>\n",
       "      <td>258200</td>\n",
       "      <td>11.62</td>\n",
       "      <td>139</td>\n",
       "      <td>-39.926765</td>\n",
       "      <td>175.023077</td>\n",
       "    </tr>\n",
       "    <tr>\n",
       "      <th>9</th>\n",
       "      <td>Taranaki</td>\n",
       "      <td>127300</td>\n",
       "      <td>17.55</td>\n",
       "      <td>112</td>\n",
       "      <td>-39.384806</td>\n",
       "      <td>174.197351</td>\n",
       "    </tr>\n",
       "    <tr>\n",
       "      <th>10</th>\n",
       "      <td>Hawke's Bay</td>\n",
       "      <td>182700</td>\n",
       "      <td>12.92</td>\n",
       "      <td>100</td>\n",
       "      <td>-39.525651</td>\n",
       "      <td>176.761146</td>\n",
       "    </tr>\n",
       "    <tr>\n",
       "      <th>11</th>\n",
       "      <td>Nelson</td>\n",
       "      <td>54500</td>\n",
       "      <td>129.15</td>\n",
       "      <td>92</td>\n",
       "      <td>-41.271085</td>\n",
       "      <td>173.283676</td>\n",
       "    </tr>\n",
       "    <tr>\n",
       "      <th>12</th>\n",
       "      <td>Southland</td>\n",
       "      <td>102400</td>\n",
       "      <td>3.28</td>\n",
       "      <td>26</td>\n",
       "      <td>-45.925427</td>\n",
       "      <td>167.606848</td>\n",
       "    </tr>\n",
       "  </tbody>\n",
       "</table>\n",
       "</div>"
      ],
      "text/plain": [
       "                region  population  density  stolen   latitude   longitude\n",
       "0             Auckland     1695200   343.09    1638 -36.852095  174.763180\n",
       "1           Canterbury      655000    14.72     660 -43.494176  171.809845\n",
       "2        Bay of Plenty      347700    28.80     446 -37.950376  176.938287\n",
       "3           Wellington      543500    67.52     420 -41.288795  174.777211\n",
       "4              Waikato      513800    21.50     371 -37.779227  175.201032\n",
       "5            Northland      201500    16.11     234 -41.282339  174.757356\n",
       "6             Gisborne       52100     6.21     176 -38.661326  178.020649\n",
       "7                Otago      246000     7.89     139 -45.397505  170.177892\n",
       "8   Manawatū-Whanganui      258200    11.62     139 -39.926765  175.023077\n",
       "9             Taranaki      127300    17.55     112 -39.384806  174.197351\n",
       "10         Hawke's Bay      182700    12.92     100 -39.525651  176.761146\n",
       "11              Nelson       54500   129.15      92 -41.271085  173.283676\n",
       "12           Southland      102400     3.28      26 -45.925427  167.606848"
      ]
     },
     "execution_count": 5,
     "metadata": {},
     "output_type": "execute_result"
    }
   ],
   "source": [
    "for target_city in list(top_regions['region']):\n",
    "\n",
    "    print(target_city)\n",
    "\n",
    "    params = {\n",
    "        \"apiKey\":api_key_geoapify,\n",
    "        \"format\":\"json\",\n",
    "        \"text\":target_city+', New Zealand'\n",
    "    }\n",
    "\n",
    "    # Build the endpoint URL\n",
    "    base_url = f\"https://api.geoapify.com/v1/geocode/search?\"\n",
    "\n",
    "    # Run request\n",
    "    response = requests.get(base_url,params=params).json()\n",
    "\n",
    "    # Extract lat/lon\n",
    "    top_regions.loc[top_regions['region']==target_city,'latitude'] = response['results'][0]['lat']\n",
    "    top_regions.loc[top_regions['region']==target_city,'longitude'] = response['results'][0]['lon']\n",
    "\n",
    "top_regions"
   ]
  },
  {
   "cell_type": "code",
   "execution_count": 31,
   "metadata": {},
   "outputs": [
    {
     "data": {
      "application/vnd.plotly.v1+json": {
       "config": {
        "plotlyServerURL": "https://plot.ly"
       },
       "data": [
        {
         "coloraxis": "coloraxis",
         "hovertemplate": "stolen=%{z}<br>latitude=%{lat}<br>longitude=%{lon}<extra></extra>",
         "lat": [
          -36.852095,
          -43.49417615,
          -37.9503756,
          -41.2887953,
          -37.77922725,
          -41.2823392,
          -38.661326,
          -45.39750525,
          -39.926765,
          -39.3848064,
          -39.52565115,
          -41.2710849,
          -45.92542665
         ],
         "lon": [
          174.7631803,
          171.8098447584145,
          176.93828736155422,
          174.7772114,
          175.2010323246593,
          174.7573563,
          178.0206487,
          170.1778918093833,
          175.023077,
          174.19735050943854,
          176.7611456576855,
          173.2836756,
          167.60684826776085
         ],
         "name": "",
         "subplot": "mapbox",
         "type": "densitymapbox",
         "z": [
          1638,
          660,
          446,
          420,
          371,
          234,
          176,
          139,
          139,
          112,
          100,
          92,
          26
         ]
        }
       ],
       "layout": {
        "coloraxis": {
         "colorbar": {
          "title": {
           "text": "stolen"
          }
         },
         "colorscale": [
          [
           0,
           "rgb(63,0,125)"
          ],
          [
           0.125,
           "rgb(84,39,143)"
          ],
          [
           0.25,
           "rgb(106,81,163)"
          ],
          [
           0.375,
           "rgb(128,125,186)"
          ],
          [
           0.5,
           "rgb(158,154,200)"
          ],
          [
           0.625,
           "rgb(188,189,220)"
          ],
          [
           0.75,
           "rgb(218,218,235)"
          ],
          [
           0.875,
           "rgb(239,237,245)"
          ],
          [
           1,
           "rgb(252,251,253)"
          ]
         ]
        },
        "height": 600,
        "legend": {
         "tracegroupgap": 0
        },
        "mapbox": {
         "center": {
          "lat": -41.3,
          "lon": 172.5
         },
         "domain": {
          "x": [
           0,
           1
          ],
          "y": [
           0,
           1
          ]
         },
         "style": "carto-positron",
         "zoom": 4.5
        },
        "margin": {
         "b": 20,
         "l": 20,
         "r": 0,
         "t": 60
        },
        "template": {
         "data": {
          "bar": [
           {
            "error_x": {
             "color": "#2a3f5f"
            },
            "error_y": {
             "color": "#2a3f5f"
            },
            "marker": {
             "line": {
              "color": "#E5ECF6",
              "width": 0.5
             },
             "pattern": {
              "fillmode": "overlay",
              "size": 10,
              "solidity": 0.2
             }
            },
            "type": "bar"
           }
          ],
          "barpolar": [
           {
            "marker": {
             "line": {
              "color": "#E5ECF6",
              "width": 0.5
             },
             "pattern": {
              "fillmode": "overlay",
              "size": 10,
              "solidity": 0.2
             }
            },
            "type": "barpolar"
           }
          ],
          "carpet": [
           {
            "aaxis": {
             "endlinecolor": "#2a3f5f",
             "gridcolor": "white",
             "linecolor": "white",
             "minorgridcolor": "white",
             "startlinecolor": "#2a3f5f"
            },
            "baxis": {
             "endlinecolor": "#2a3f5f",
             "gridcolor": "white",
             "linecolor": "white",
             "minorgridcolor": "white",
             "startlinecolor": "#2a3f5f"
            },
            "type": "carpet"
           }
          ],
          "choropleth": [
           {
            "colorbar": {
             "outlinewidth": 0,
             "ticks": ""
            },
            "type": "choropleth"
           }
          ],
          "contour": [
           {
            "colorbar": {
             "outlinewidth": 0,
             "ticks": ""
            },
            "colorscale": [
             [
              0,
              "#0d0887"
             ],
             [
              0.1111111111111111,
              "#46039f"
             ],
             [
              0.2222222222222222,
              "#7201a8"
             ],
             [
              0.3333333333333333,
              "#9c179e"
             ],
             [
              0.4444444444444444,
              "#bd3786"
             ],
             [
              0.5555555555555556,
              "#d8576b"
             ],
             [
              0.6666666666666666,
              "#ed7953"
             ],
             [
              0.7777777777777778,
              "#fb9f3a"
             ],
             [
              0.8888888888888888,
              "#fdca26"
             ],
             [
              1,
              "#f0f921"
             ]
            ],
            "type": "contour"
           }
          ],
          "contourcarpet": [
           {
            "colorbar": {
             "outlinewidth": 0,
             "ticks": ""
            },
            "type": "contourcarpet"
           }
          ],
          "heatmap": [
           {
            "colorbar": {
             "outlinewidth": 0,
             "ticks": ""
            },
            "colorscale": [
             [
              0,
              "#0d0887"
             ],
             [
              0.1111111111111111,
              "#46039f"
             ],
             [
              0.2222222222222222,
              "#7201a8"
             ],
             [
              0.3333333333333333,
              "#9c179e"
             ],
             [
              0.4444444444444444,
              "#bd3786"
             ],
             [
              0.5555555555555556,
              "#d8576b"
             ],
             [
              0.6666666666666666,
              "#ed7953"
             ],
             [
              0.7777777777777778,
              "#fb9f3a"
             ],
             [
              0.8888888888888888,
              "#fdca26"
             ],
             [
              1,
              "#f0f921"
             ]
            ],
            "type": "heatmap"
           }
          ],
          "heatmapgl": [
           {
            "colorbar": {
             "outlinewidth": 0,
             "ticks": ""
            },
            "colorscale": [
             [
              0,
              "#0d0887"
             ],
             [
              0.1111111111111111,
              "#46039f"
             ],
             [
              0.2222222222222222,
              "#7201a8"
             ],
             [
              0.3333333333333333,
              "#9c179e"
             ],
             [
              0.4444444444444444,
              "#bd3786"
             ],
             [
              0.5555555555555556,
              "#d8576b"
             ],
             [
              0.6666666666666666,
              "#ed7953"
             ],
             [
              0.7777777777777778,
              "#fb9f3a"
             ],
             [
              0.8888888888888888,
              "#fdca26"
             ],
             [
              1,
              "#f0f921"
             ]
            ],
            "type": "heatmapgl"
           }
          ],
          "histogram": [
           {
            "marker": {
             "pattern": {
              "fillmode": "overlay",
              "size": 10,
              "solidity": 0.2
             }
            },
            "type": "histogram"
           }
          ],
          "histogram2d": [
           {
            "colorbar": {
             "outlinewidth": 0,
             "ticks": ""
            },
            "colorscale": [
             [
              0,
              "#0d0887"
             ],
             [
              0.1111111111111111,
              "#46039f"
             ],
             [
              0.2222222222222222,
              "#7201a8"
             ],
             [
              0.3333333333333333,
              "#9c179e"
             ],
             [
              0.4444444444444444,
              "#bd3786"
             ],
             [
              0.5555555555555556,
              "#d8576b"
             ],
             [
              0.6666666666666666,
              "#ed7953"
             ],
             [
              0.7777777777777778,
              "#fb9f3a"
             ],
             [
              0.8888888888888888,
              "#fdca26"
             ],
             [
              1,
              "#f0f921"
             ]
            ],
            "type": "histogram2d"
           }
          ],
          "histogram2dcontour": [
           {
            "colorbar": {
             "outlinewidth": 0,
             "ticks": ""
            },
            "colorscale": [
             [
              0,
              "#0d0887"
             ],
             [
              0.1111111111111111,
              "#46039f"
             ],
             [
              0.2222222222222222,
              "#7201a8"
             ],
             [
              0.3333333333333333,
              "#9c179e"
             ],
             [
              0.4444444444444444,
              "#bd3786"
             ],
             [
              0.5555555555555556,
              "#d8576b"
             ],
             [
              0.6666666666666666,
              "#ed7953"
             ],
             [
              0.7777777777777778,
              "#fb9f3a"
             ],
             [
              0.8888888888888888,
              "#fdca26"
             ],
             [
              1,
              "#f0f921"
             ]
            ],
            "type": "histogram2dcontour"
           }
          ],
          "mesh3d": [
           {
            "colorbar": {
             "outlinewidth": 0,
             "ticks": ""
            },
            "type": "mesh3d"
           }
          ],
          "parcoords": [
           {
            "line": {
             "colorbar": {
              "outlinewidth": 0,
              "ticks": ""
             }
            },
            "type": "parcoords"
           }
          ],
          "pie": [
           {
            "automargin": true,
            "type": "pie"
           }
          ],
          "scatter": [
           {
            "fillpattern": {
             "fillmode": "overlay",
             "size": 10,
             "solidity": 0.2
            },
            "type": "scatter"
           }
          ],
          "scatter3d": [
           {
            "line": {
             "colorbar": {
              "outlinewidth": 0,
              "ticks": ""
             }
            },
            "marker": {
             "colorbar": {
              "outlinewidth": 0,
              "ticks": ""
             }
            },
            "type": "scatter3d"
           }
          ],
          "scattercarpet": [
           {
            "marker": {
             "colorbar": {
              "outlinewidth": 0,
              "ticks": ""
             }
            },
            "type": "scattercarpet"
           }
          ],
          "scattergeo": [
           {
            "marker": {
             "colorbar": {
              "outlinewidth": 0,
              "ticks": ""
             }
            },
            "type": "scattergeo"
           }
          ],
          "scattergl": [
           {
            "marker": {
             "colorbar": {
              "outlinewidth": 0,
              "ticks": ""
             }
            },
            "type": "scattergl"
           }
          ],
          "scattermapbox": [
           {
            "marker": {
             "colorbar": {
              "outlinewidth": 0,
              "ticks": ""
             }
            },
            "type": "scattermapbox"
           }
          ],
          "scatterpolar": [
           {
            "marker": {
             "colorbar": {
              "outlinewidth": 0,
              "ticks": ""
             }
            },
            "type": "scatterpolar"
           }
          ],
          "scatterpolargl": [
           {
            "marker": {
             "colorbar": {
              "outlinewidth": 0,
              "ticks": ""
             }
            },
            "type": "scatterpolargl"
           }
          ],
          "scatterternary": [
           {
            "marker": {
             "colorbar": {
              "outlinewidth": 0,
              "ticks": ""
             }
            },
            "type": "scatterternary"
           }
          ],
          "surface": [
           {
            "colorbar": {
             "outlinewidth": 0,
             "ticks": ""
            },
            "colorscale": [
             [
              0,
              "#0d0887"
             ],
             [
              0.1111111111111111,
              "#46039f"
             ],
             [
              0.2222222222222222,
              "#7201a8"
             ],
             [
              0.3333333333333333,
              "#9c179e"
             ],
             [
              0.4444444444444444,
              "#bd3786"
             ],
             [
              0.5555555555555556,
              "#d8576b"
             ],
             [
              0.6666666666666666,
              "#ed7953"
             ],
             [
              0.7777777777777778,
              "#fb9f3a"
             ],
             [
              0.8888888888888888,
              "#fdca26"
             ],
             [
              1,
              "#f0f921"
             ]
            ],
            "type": "surface"
           }
          ],
          "table": [
           {
            "cells": {
             "fill": {
              "color": "#EBF0F8"
             },
             "line": {
              "color": "white"
             }
            },
            "header": {
             "fill": {
              "color": "#C8D4E3"
             },
             "line": {
              "color": "white"
             }
            },
            "type": "table"
           }
          ]
         },
         "layout": {
          "annotationdefaults": {
           "arrowcolor": "#2a3f5f",
           "arrowhead": 0,
           "arrowwidth": 1
          },
          "autotypenumbers": "strict",
          "coloraxis": {
           "colorbar": {
            "outlinewidth": 0,
            "ticks": ""
           }
          },
          "colorscale": {
           "diverging": [
            [
             0,
             "#8e0152"
            ],
            [
             0.1,
             "#c51b7d"
            ],
            [
             0.2,
             "#de77ae"
            ],
            [
             0.3,
             "#f1b6da"
            ],
            [
             0.4,
             "#fde0ef"
            ],
            [
             0.5,
             "#f7f7f7"
            ],
            [
             0.6,
             "#e6f5d0"
            ],
            [
             0.7,
             "#b8e186"
            ],
            [
             0.8,
             "#7fbc41"
            ],
            [
             0.9,
             "#4d9221"
            ],
            [
             1,
             "#276419"
            ]
           ],
           "sequential": [
            [
             0,
             "#0d0887"
            ],
            [
             0.1111111111111111,
             "#46039f"
            ],
            [
             0.2222222222222222,
             "#7201a8"
            ],
            [
             0.3333333333333333,
             "#9c179e"
            ],
            [
             0.4444444444444444,
             "#bd3786"
            ],
            [
             0.5555555555555556,
             "#d8576b"
            ],
            [
             0.6666666666666666,
             "#ed7953"
            ],
            [
             0.7777777777777778,
             "#fb9f3a"
            ],
            [
             0.8888888888888888,
             "#fdca26"
            ],
            [
             1,
             "#f0f921"
            ]
           ],
           "sequentialminus": [
            [
             0,
             "#0d0887"
            ],
            [
             0.1111111111111111,
             "#46039f"
            ],
            [
             0.2222222222222222,
             "#7201a8"
            ],
            [
             0.3333333333333333,
             "#9c179e"
            ],
            [
             0.4444444444444444,
             "#bd3786"
            ],
            [
             0.5555555555555556,
             "#d8576b"
            ],
            [
             0.6666666666666666,
             "#ed7953"
            ],
            [
             0.7777777777777778,
             "#fb9f3a"
            ],
            [
             0.8888888888888888,
             "#fdca26"
            ],
            [
             1,
             "#f0f921"
            ]
           ]
          },
          "colorway": [
           "#636efa",
           "#EF553B",
           "#00cc96",
           "#ab63fa",
           "#FFA15A",
           "#19d3f3",
           "#FF6692",
           "#B6E880",
           "#FF97FF",
           "#FECB52"
          ],
          "font": {
           "color": "#2a3f5f"
          },
          "geo": {
           "bgcolor": "white",
           "lakecolor": "white",
           "landcolor": "#E5ECF6",
           "showlakes": true,
           "showland": true,
           "subunitcolor": "white"
          },
          "hoverlabel": {
           "align": "left"
          },
          "hovermode": "closest",
          "mapbox": {
           "style": "light"
          },
          "paper_bgcolor": "white",
          "plot_bgcolor": "#E5ECF6",
          "polar": {
           "angularaxis": {
            "gridcolor": "white",
            "linecolor": "white",
            "ticks": ""
           },
           "bgcolor": "#E5ECF6",
           "radialaxis": {
            "gridcolor": "white",
            "linecolor": "white",
            "ticks": ""
           }
          },
          "scene": {
           "xaxis": {
            "backgroundcolor": "#E5ECF6",
            "gridcolor": "white",
            "gridwidth": 2,
            "linecolor": "white",
            "showbackground": true,
            "ticks": "",
            "zerolinecolor": "white"
           },
           "yaxis": {
            "backgroundcolor": "#E5ECF6",
            "gridcolor": "white",
            "gridwidth": 2,
            "linecolor": "white",
            "showbackground": true,
            "ticks": "",
            "zerolinecolor": "white"
           },
           "zaxis": {
            "backgroundcolor": "#E5ECF6",
            "gridcolor": "white",
            "gridwidth": 2,
            "linecolor": "white",
            "showbackground": true,
            "ticks": "",
            "zerolinecolor": "white"
           }
          },
          "shapedefaults": {
           "line": {
            "color": "#2a3f5f"
           }
          },
          "ternary": {
           "aaxis": {
            "gridcolor": "white",
            "linecolor": "white",
            "ticks": ""
           },
           "baxis": {
            "gridcolor": "white",
            "linecolor": "white",
            "ticks": ""
           },
           "bgcolor": "#E5ECF6",
           "caxis": {
            "gridcolor": "white",
            "linecolor": "white",
            "ticks": ""
           }
          },
          "title": {
           "x": 0.05
          },
          "xaxis": {
           "automargin": true,
           "gridcolor": "white",
           "linecolor": "white",
           "ticks": "",
           "title": {
            "standoff": 15
           },
           "zerolinecolor": "white",
           "zerolinewidth": 2
          },
          "yaxis": {
           "automargin": true,
           "gridcolor": "white",
           "linecolor": "white",
           "ticks": "",
           "title": {
            "standoff": 15
           },
           "zerolinecolor": "white",
           "zerolinewidth": 2
          }
         }
        },
        "title": {
         "text": "Stolen vehicles in New Zealand"
        },
        "width": 600
       }
      }
     },
     "metadata": {},
     "output_type": "display_data"
    }
   ],
   "source": [
    "import plotly.express as px\n",
    "\n",
    "px.density_mapbox(\n",
    "    top_regions,\n",
    "    lat='latitude',\n",
    "    lon='longitude',\n",
    "    z='stolen',\n",
    "    zoom=4.5,\n",
    "    height=600,\n",
    "    width=600,\n",
    "    center={'lat':-41.3, 'lon':172.5},\n",
    "    color_continuous_scale='Purples_r',\n",
    "    title='Stolen vehicles in New Zealand'\n",
    "    \n",
    ").update_layout(\n",
    "    margin={\"r\":0,\"t\":60,\"l\":20,\"b\":20},\n",
    "    mapbox_style=\"carto-positron\", # carto-positron, carto-darkmatter\n",
    ")"
   ]
  },
  {
   "cell_type": "markdown",
   "metadata": {},
   "source": [
    "## Choropleth\n",
    "Source: https://datafinder.stats.govt.nz/layer/105134-regional-council-2021-clipped-generalised/"
   ]
  },
  {
   "cell_type": "code",
   "execution_count": 7,
   "metadata": {},
   "outputs": [],
   "source": [
    "import pandas as pd\n",
    "import matplotlib.pyplot as plt #if using matplotlib\n",
    "import plotly.express as px #if using plotly\n",
    "import geopandas as gpd"
   ]
  },
  {
   "cell_type": "code",
   "execution_count": 12,
   "metadata": {},
   "outputs": [],
   "source": [
    "#set up the file path and read the shapefile data\n",
    "fp = \"../Data/NZ_map_EPSG2193/regional-council-2021-clipped-generalised.shx\"\n",
    "map_df = gpd.read_file(fp)\n",
    "map_df.to_crs(pyproj.CRS.from_epsg(4326), inplace=True)\n",
    "map_df = map_df.drop(columns=['REGC2021_V', 'REGC2021_1', 'LAND_AREA_', 'AREA_SQ_KM', 'Shape_Leng'])"
   ]
  },
  {
   "cell_type": "code",
   "execution_count": 13,
   "metadata": {},
   "outputs": [
    {
     "data": {
      "text/html": [
       "<div>\n",
       "<style scoped>\n",
       "    .dataframe tbody tr th:only-of-type {\n",
       "        vertical-align: middle;\n",
       "    }\n",
       "\n",
       "    .dataframe tbody tr th {\n",
       "        vertical-align: top;\n",
       "    }\n",
       "\n",
       "    .dataframe thead th {\n",
       "        text-align: right;\n",
       "    }\n",
       "</style>\n",
       "<table border=\"1\" class=\"dataframe\">\n",
       "  <thead>\n",
       "    <tr style=\"text-align: right;\">\n",
       "      <th></th>\n",
       "      <th>region</th>\n",
       "      <th>population</th>\n",
       "      <th>density</th>\n",
       "      <th>stolen</th>\n",
       "      <th>stolen_per_1000</th>\n",
       "    </tr>\n",
       "  </thead>\n",
       "  <tbody>\n",
       "    <tr>\n",
       "      <th>0</th>\n",
       "      <td>Auckland Region</td>\n",
       "      <td>1695200</td>\n",
       "      <td>343.09</td>\n",
       "      <td>1638</td>\n",
       "      <td>0.966258</td>\n",
       "    </tr>\n",
       "    <tr>\n",
       "      <th>1</th>\n",
       "      <td>Bay of Plenty Region</td>\n",
       "      <td>655000</td>\n",
       "      <td>14.72</td>\n",
       "      <td>660</td>\n",
       "      <td>1.007634</td>\n",
       "    </tr>\n",
       "    <tr>\n",
       "      <th>2</th>\n",
       "      <td>Canterbury Region</td>\n",
       "      <td>347700</td>\n",
       "      <td>28.80</td>\n",
       "      <td>446</td>\n",
       "      <td>1.282715</td>\n",
       "    </tr>\n",
       "    <tr>\n",
       "      <th>3</th>\n",
       "      <td>Gisborne Region</td>\n",
       "      <td>543500</td>\n",
       "      <td>67.52</td>\n",
       "      <td>420</td>\n",
       "      <td>0.772769</td>\n",
       "    </tr>\n",
       "    <tr>\n",
       "      <th>4</th>\n",
       "      <td>Hawke's Bay Region</td>\n",
       "      <td>513800</td>\n",
       "      <td>21.50</td>\n",
       "      <td>371</td>\n",
       "      <td>0.722071</td>\n",
       "    </tr>\n",
       "    <tr>\n",
       "      <th>5</th>\n",
       "      <td>Manawatu-Whanganui Region</td>\n",
       "      <td>201500</td>\n",
       "      <td>16.11</td>\n",
       "      <td>234</td>\n",
       "      <td>1.161290</td>\n",
       "    </tr>\n",
       "    <tr>\n",
       "      <th>6</th>\n",
       "      <td>Nelson Region</td>\n",
       "      <td>52100</td>\n",
       "      <td>6.21</td>\n",
       "      <td>176</td>\n",
       "      <td>3.378119</td>\n",
       "    </tr>\n",
       "    <tr>\n",
       "      <th>7</th>\n",
       "      <td>Northland Region</td>\n",
       "      <td>246000</td>\n",
       "      <td>7.89</td>\n",
       "      <td>139</td>\n",
       "      <td>0.565041</td>\n",
       "    </tr>\n",
       "    <tr>\n",
       "      <th>8</th>\n",
       "      <td>Otago Region</td>\n",
       "      <td>258200</td>\n",
       "      <td>11.62</td>\n",
       "      <td>139</td>\n",
       "      <td>0.538342</td>\n",
       "    </tr>\n",
       "    <tr>\n",
       "      <th>9</th>\n",
       "      <td>Southland Region</td>\n",
       "      <td>127300</td>\n",
       "      <td>17.55</td>\n",
       "      <td>112</td>\n",
       "      <td>0.879811</td>\n",
       "    </tr>\n",
       "    <tr>\n",
       "      <th>10</th>\n",
       "      <td>Taranaki Region</td>\n",
       "      <td>182700</td>\n",
       "      <td>12.92</td>\n",
       "      <td>100</td>\n",
       "      <td>0.547345</td>\n",
       "    </tr>\n",
       "    <tr>\n",
       "      <th>11</th>\n",
       "      <td>Waikato Region</td>\n",
       "      <td>54500</td>\n",
       "      <td>129.15</td>\n",
       "      <td>92</td>\n",
       "      <td>1.688073</td>\n",
       "    </tr>\n",
       "    <tr>\n",
       "      <th>12</th>\n",
       "      <td>Wellington Region</td>\n",
       "      <td>102400</td>\n",
       "      <td>3.28</td>\n",
       "      <td>26</td>\n",
       "      <td>0.253906</td>\n",
       "    </tr>\n",
       "  </tbody>\n",
       "</table>\n",
       "</div>"
      ],
      "text/plain": [
       "                       region  population  density  stolen  stolen_per_1000\n",
       "0             Auckland Region     1695200   343.09    1638         0.966258\n",
       "1        Bay of Plenty Region      655000    14.72     660         1.007634\n",
       "2           Canterbury Region      347700    28.80     446         1.282715\n",
       "3             Gisborne Region      543500    67.52     420         0.772769\n",
       "4          Hawke's Bay Region      513800    21.50     371         0.722071\n",
       "5   Manawatu-Whanganui Region      201500    16.11     234         1.161290\n",
       "6               Nelson Region       52100     6.21     176         3.378119\n",
       "7            Northland Region      246000     7.89     139         0.565041\n",
       "8                Otago Region      258200    11.62     139         0.538342\n",
       "9            Southland Region      127300    17.55     112         0.879811\n",
       "10            Taranaki Region      182700    12.92     100         0.547345\n",
       "11             Waikato Region       54500   129.15      92         1.688073\n",
       "12          Wellington Region      102400     3.28      26         0.253906"
      ]
     },
     "execution_count": 13,
     "metadata": {},
     "output_type": "execute_result"
    }
   ],
   "source": [
    "top_regions_ch = pd.read_csv('../Data/top_regions.csv')\n",
    "\n",
    "# Rename regions in DataFrame\n",
    "top_regions_ch['region'] = [\n",
    "                'Auckland Region',\n",
    "                'Bay of Plenty Region',\n",
    "                'Canterbury Region',\n",
    "                'Gisborne Region',\n",
    "                \"Hawke's Bay Region\",\n",
    "                'Manawatu-Whanganui Region',\n",
    "                'Nelson Region',\n",
    "                'Northland Region',\n",
    "                'Otago Region',\n",
    "                'Southland Region',\n",
    "                'Taranaki Region',\n",
    "                'Waikato Region',\n",
    "                'Wellington Region'\n",
    "]\n",
    "\n",
    "# Calculate the number of stolen car per 1000 people (Div0 will return NaN which is acceptable)\n",
    "top_regions_ch = top_regions_ch.assign(\n",
    "    stolen_per_1000 = 1000*top_regions_ch['stolen']/top_regions_ch['population']\n",
    ")\n",
    "\n",
    "top_regions_ch"
   ]
  },
  {
   "cell_type": "code",
   "execution_count": 33,
   "metadata": {},
   "outputs": [
    {
     "data": {
      "text/html": [
       "<div>\n",
       "<style scoped>\n",
       "    .dataframe tbody tr th:only-of-type {\n",
       "        vertical-align: middle;\n",
       "    }\n",
       "\n",
       "    .dataframe tbody tr th {\n",
       "        vertical-align: top;\n",
       "    }\n",
       "\n",
       "    .dataframe thead th {\n",
       "        text-align: right;\n",
       "    }\n",
       "</style>\n",
       "<table border=\"1\" class=\"dataframe\">\n",
       "  <thead>\n",
       "    <tr style=\"text-align: right;\">\n",
       "      <th></th>\n",
       "      <th>geometry</th>\n",
       "      <th>region</th>\n",
       "      <th>population</th>\n",
       "      <th>stolen</th>\n",
       "      <th>stolen_per_1000</th>\n",
       "    </tr>\n",
       "  </thead>\n",
       "  <tbody>\n",
       "    <tr>\n",
       "      <th>0</th>\n",
       "      <td>MULTIPOLYGON (((174.27348 -36.28929, 174.27354...</td>\n",
       "      <td>Northland Region</td>\n",
       "      <td>246000.0</td>\n",
       "      <td>139.0</td>\n",
       "      <td>0.565041</td>\n",
       "    </tr>\n",
       "    <tr>\n",
       "      <th>1</th>\n",
       "      <td>MULTIPOLYGON (((174.77946 -36.95661, 174.77950...</td>\n",
       "      <td>Auckland Region</td>\n",
       "      <td>1695200.0</td>\n",
       "      <td>1638.0</td>\n",
       "      <td>0.966258</td>\n",
       "    </tr>\n",
       "    <tr>\n",
       "      <th>2</th>\n",
       "      <td>MULTIPOLYGON (((174.86388 -38.10253, 174.86391...</td>\n",
       "      <td>Waikato Region</td>\n",
       "      <td>54500.0</td>\n",
       "      <td>92.0</td>\n",
       "      <td>1.688073</td>\n",
       "    </tr>\n",
       "    <tr>\n",
       "      <th>3</th>\n",
       "      <td>MULTIPOLYGON (((177.13440 -38.01896, 177.13419...</td>\n",
       "      <td>Bay of Plenty Region</td>\n",
       "      <td>655000.0</td>\n",
       "      <td>660.0</td>\n",
       "      <td>1.007634</td>\n",
       "    </tr>\n",
       "    <tr>\n",
       "      <th>4</th>\n",
       "      <td>MULTIPOLYGON (((178.04937 -38.70605, 178.04974...</td>\n",
       "      <td>Gisborne Region</td>\n",
       "      <td>543500.0</td>\n",
       "      <td>420.0</td>\n",
       "      <td>0.772769</td>\n",
       "    </tr>\n",
       "    <tr>\n",
       "      <th>5</th>\n",
       "      <td>MULTIPOLYGON (((176.98899 -39.85827, 176.98891...</td>\n",
       "      <td>Hawke's Bay Region</td>\n",
       "      <td>513800.0</td>\n",
       "      <td>371.0</td>\n",
       "      <td>0.722071</td>\n",
       "    </tr>\n",
       "    <tr>\n",
       "      <th>6</th>\n",
       "      <td>MULTIPOLYGON (((174.01276 -39.06090, 174.01291...</td>\n",
       "      <td>Taranaki Region</td>\n",
       "      <td>182700.0</td>\n",
       "      <td>100.0</td>\n",
       "      <td>0.547345</td>\n",
       "    </tr>\n",
       "    <tr>\n",
       "      <th>7</th>\n",
       "      <td>POLYGON ((175.54046 -38.47219, 175.56061 -38.4...</td>\n",
       "      <td>Manawatu-Whanganui Region</td>\n",
       "      <td>201500.0</td>\n",
       "      <td>234.0</td>\n",
       "      <td>1.161290</td>\n",
       "    </tr>\n",
       "    <tr>\n",
       "      <th>8</th>\n",
       "      <td>MULTIPOLYGON (((174.77469 -41.34887, 174.77460...</td>\n",
       "      <td>Wellington Region</td>\n",
       "      <td>102400.0</td>\n",
       "      <td>26.0</td>\n",
       "      <td>0.253906</td>\n",
       "    </tr>\n",
       "    <tr>\n",
       "      <th>9</th>\n",
       "      <td>MULTIPOLYGON (((168.88097 -43.86199, 168.88084...</td>\n",
       "      <td>0</td>\n",
       "      <td>0.0</td>\n",
       "      <td>0.0</td>\n",
       "      <td>0.000000</td>\n",
       "    </tr>\n",
       "    <tr>\n",
       "      <th>10</th>\n",
       "      <td>MULTIPOLYGON (((172.82971 -43.65168, 172.82958...</td>\n",
       "      <td>Canterbury Region</td>\n",
       "      <td>347700.0</td>\n",
       "      <td>446.0</td>\n",
       "      <td>1.282715</td>\n",
       "    </tr>\n",
       "    <tr>\n",
       "      <th>11</th>\n",
       "      <td>MULTIPOLYGON (((169.68381 -46.48353, 169.68371...</td>\n",
       "      <td>Otago Region</td>\n",
       "      <td>258200.0</td>\n",
       "      <td>139.0</td>\n",
       "      <td>0.538342</td>\n",
       "    </tr>\n",
       "    <tr>\n",
       "      <th>12</th>\n",
       "      <td>MULTIPOLYGON (((167.49968 -47.28823, 167.50008...</td>\n",
       "      <td>Southland Region</td>\n",
       "      <td>127300.0</td>\n",
       "      <td>112.0</td>\n",
       "      <td>0.879811</td>\n",
       "    </tr>\n",
       "    <tr>\n",
       "      <th>13</th>\n",
       "      <td>MULTIPOLYGON (((173.14892 -41.29482, 173.14922...</td>\n",
       "      <td>0</td>\n",
       "      <td>0.0</td>\n",
       "      <td>0.0</td>\n",
       "      <td>0.000000</td>\n",
       "    </tr>\n",
       "    <tr>\n",
       "      <th>14</th>\n",
       "      <td>MULTIPOLYGON (((173.20134 -41.31065, 173.20121...</td>\n",
       "      <td>Nelson Region</td>\n",
       "      <td>52100.0</td>\n",
       "      <td>176.0</td>\n",
       "      <td>3.378119</td>\n",
       "    </tr>\n",
       "    <tr>\n",
       "      <th>15</th>\n",
       "      <td>MULTIPOLYGON (((174.06838 -41.54997, 174.06833...</td>\n",
       "      <td>0</td>\n",
       "      <td>0.0</td>\n",
       "      <td>0.0</td>\n",
       "      <td>0.000000</td>\n",
       "    </tr>\n",
       "  </tbody>\n",
       "</table>\n",
       "</div>"
      ],
      "text/plain": [
       "                                             geometry  \\\n",
       "0   MULTIPOLYGON (((174.27348 -36.28929, 174.27354...   \n",
       "1   MULTIPOLYGON (((174.77946 -36.95661, 174.77950...   \n",
       "2   MULTIPOLYGON (((174.86388 -38.10253, 174.86391...   \n",
       "3   MULTIPOLYGON (((177.13440 -38.01896, 177.13419...   \n",
       "4   MULTIPOLYGON (((178.04937 -38.70605, 178.04974...   \n",
       "5   MULTIPOLYGON (((176.98899 -39.85827, 176.98891...   \n",
       "6   MULTIPOLYGON (((174.01276 -39.06090, 174.01291...   \n",
       "7   POLYGON ((175.54046 -38.47219, 175.56061 -38.4...   \n",
       "8   MULTIPOLYGON (((174.77469 -41.34887, 174.77460...   \n",
       "9   MULTIPOLYGON (((168.88097 -43.86199, 168.88084...   \n",
       "10  MULTIPOLYGON (((172.82971 -43.65168, 172.82958...   \n",
       "11  MULTIPOLYGON (((169.68381 -46.48353, 169.68371...   \n",
       "12  MULTIPOLYGON (((167.49968 -47.28823, 167.50008...   \n",
       "13  MULTIPOLYGON (((173.14892 -41.29482, 173.14922...   \n",
       "14  MULTIPOLYGON (((173.20134 -41.31065, 173.20121...   \n",
       "15  MULTIPOLYGON (((174.06838 -41.54997, 174.06833...   \n",
       "\n",
       "                       region  population  stolen  stolen_per_1000  \n",
       "0            Northland Region    246000.0   139.0         0.565041  \n",
       "1             Auckland Region   1695200.0  1638.0         0.966258  \n",
       "2              Waikato Region     54500.0    92.0         1.688073  \n",
       "3        Bay of Plenty Region    655000.0   660.0         1.007634  \n",
       "4             Gisborne Region    543500.0   420.0         0.772769  \n",
       "5          Hawke's Bay Region    513800.0   371.0         0.722071  \n",
       "6             Taranaki Region    182700.0   100.0         0.547345  \n",
       "7   Manawatu-Whanganui Region    201500.0   234.0         1.161290  \n",
       "8           Wellington Region    102400.0    26.0         0.253906  \n",
       "9                           0         0.0     0.0         0.000000  \n",
       "10          Canterbury Region    347700.0   446.0         1.282715  \n",
       "11               Otago Region    258200.0   139.0         0.538342  \n",
       "12           Southland Region    127300.0   112.0         0.879811  \n",
       "13                          0         0.0     0.0         0.000000  \n",
       "14              Nelson Region     52100.0   176.0         3.378119  \n",
       "15                          0         0.0     0.0         0.000000  "
      ]
     },
     "execution_count": 33,
     "metadata": {},
     "output_type": "execute_result"
    }
   ],
   "source": [
    "top_regions_geo = pd.merge(map_df, top_regions_ch, how='left', left_on='REGC2021_2', right_on='region')\n",
    "\n",
    "# Drop unused and redundant columns\n",
    "top_regions_geo = top_regions_geo.drop(columns=['REGC2021_2', 'density'])\n",
    "\n",
    "top_regions_geo = top_regions_geo.fillna(0)\n",
    "top_regions_geo"
   ]
  },
  {
   "cell_type": "code",
   "execution_count": 36,
   "metadata": {},
   "outputs": [
    {
     "name": "stderr",
     "output_type": "stream",
     "text": [
      "c:\\Users\\User\\anaconda3\\envs\\dev\\lib\\site-packages\\geopandas\\plotting.py:48: ShapelyDeprecationWarning:\n",
      "\n",
      "The 'type' attribute is deprecated, and will be removed in the future. You can use the 'geom_type' attribute instead.\n",
      "\n"
     ]
    },
    {
     "data": {
      "image/png": "[encoded data removed]",
      "text/plain": [
       "<Figure size 800x600 with 2 Axes>"
      ]
     },
     "metadata": {},
     "output_type": "display_data"
    }
   ],
   "source": [
    "fig, ax = plt.subplots(1, figsize=(8,6))\n",
    "top_regions_geo.plot(column='stolen_per_1000', cmap='Purples', linewidth=1, ax=ax, edgecolor='0.9', legend = True)\n",
    "ax.axis('off')\n",
    "\n",
    "fig.suptitle('Number of Stolen Vehicles per 1000 inhabitants')\n",
    "\n",
    "plt.savefig('../Images/map_regions.png')\n",
    "plt.show()"
   ]
  },
  {
   "cell_type": "code",
   "execution_count": 16,
   "metadata": {},
   "outputs": [
    {
     "data": {
      "text/html": [
       "<div>\n",
       "<style scoped>\n",
       "    .dataframe tbody tr th:only-of-type {\n",
       "        vertical-align: middle;\n",
       "    }\n",
       "\n",
       "    .dataframe tbody tr th {\n",
       "        vertical-align: top;\n",
       "    }\n",
       "\n",
       "    .dataframe thead th {\n",
       "        text-align: right;\n",
       "    }\n",
       "</style>\n",
       "<table border=\"1\" class=\"dataframe\">\n",
       "  <thead>\n",
       "    <tr style=\"text-align: right;\">\n",
       "      <th></th>\n",
       "      <th>region</th>\n",
       "      <th>population</th>\n",
       "      <th>density</th>\n",
       "      <th>stolen</th>\n",
       "      <th>stolen_per_1000</th>\n",
       "    </tr>\n",
       "  </thead>\n",
       "  <tbody>\n",
       "    <tr>\n",
       "      <th>0</th>\n",
       "      <td>Nelson Region</td>\n",
       "      <td>52100</td>\n",
       "      <td>6.21</td>\n",
       "      <td>176</td>\n",
       "      <td>3.378119</td>\n",
       "    </tr>\n",
       "    <tr>\n",
       "      <th>1</th>\n",
       "      <td>Waikato Region</td>\n",
       "      <td>54500</td>\n",
       "      <td>129.15</td>\n",
       "      <td>92</td>\n",
       "      <td>1.688073</td>\n",
       "    </tr>\n",
       "    <tr>\n",
       "      <th>2</th>\n",
       "      <td>Canterbury Region</td>\n",
       "      <td>347700</td>\n",
       "      <td>28.80</td>\n",
       "      <td>446</td>\n",
       "      <td>1.282715</td>\n",
       "    </tr>\n",
       "    <tr>\n",
       "      <th>3</th>\n",
       "      <td>Manawatu-Whanganui Region</td>\n",
       "      <td>201500</td>\n",
       "      <td>16.11</td>\n",
       "      <td>234</td>\n",
       "      <td>1.161290</td>\n",
       "    </tr>\n",
       "    <tr>\n",
       "      <th>4</th>\n",
       "      <td>Bay of Plenty Region</td>\n",
       "      <td>655000</td>\n",
       "      <td>14.72</td>\n",
       "      <td>660</td>\n",
       "      <td>1.007634</td>\n",
       "    </tr>\n",
       "    <tr>\n",
       "      <th>5</th>\n",
       "      <td>Auckland Region</td>\n",
       "      <td>1695200</td>\n",
       "      <td>343.09</td>\n",
       "      <td>1638</td>\n",
       "      <td>0.966258</td>\n",
       "    </tr>\n",
       "    <tr>\n",
       "      <th>6</th>\n",
       "      <td>Southland Region</td>\n",
       "      <td>127300</td>\n",
       "      <td>17.55</td>\n",
       "      <td>112</td>\n",
       "      <td>0.879811</td>\n",
       "    </tr>\n",
       "    <tr>\n",
       "      <th>7</th>\n",
       "      <td>Gisborne Region</td>\n",
       "      <td>543500</td>\n",
       "      <td>67.52</td>\n",
       "      <td>420</td>\n",
       "      <td>0.772769</td>\n",
       "    </tr>\n",
       "    <tr>\n",
       "      <th>8</th>\n",
       "      <td>Hawke's Bay Region</td>\n",
       "      <td>513800</td>\n",
       "      <td>21.50</td>\n",
       "      <td>371</td>\n",
       "      <td>0.722071</td>\n",
       "    </tr>\n",
       "    <tr>\n",
       "      <th>9</th>\n",
       "      <td>Northland Region</td>\n",
       "      <td>246000</td>\n",
       "      <td>7.89</td>\n",
       "      <td>139</td>\n",
       "      <td>0.565041</td>\n",
       "    </tr>\n",
       "    <tr>\n",
       "      <th>10</th>\n",
       "      <td>Taranaki Region</td>\n",
       "      <td>182700</td>\n",
       "      <td>12.92</td>\n",
       "      <td>100</td>\n",
       "      <td>0.547345</td>\n",
       "    </tr>\n",
       "    <tr>\n",
       "      <th>11</th>\n",
       "      <td>Otago Region</td>\n",
       "      <td>258200</td>\n",
       "      <td>11.62</td>\n",
       "      <td>139</td>\n",
       "      <td>0.538342</td>\n",
       "    </tr>\n",
       "    <tr>\n",
       "      <th>12</th>\n",
       "      <td>Wellington Region</td>\n",
       "      <td>102400</td>\n",
       "      <td>3.28</td>\n",
       "      <td>26</td>\n",
       "      <td>0.253906</td>\n",
       "    </tr>\n",
       "  </tbody>\n",
       "</table>\n",
       "</div>"
      ],
      "text/plain": [
       "                       region  population  density  stolen  stolen_per_1000\n",
       "0               Nelson Region       52100     6.21     176         3.378119\n",
       "1              Waikato Region       54500   129.15      92         1.688073\n",
       "2           Canterbury Region      347700    28.80     446         1.282715\n",
       "3   Manawatu-Whanganui Region      201500    16.11     234         1.161290\n",
       "4        Bay of Plenty Region      655000    14.72     660         1.007634\n",
       "5             Auckland Region     1695200   343.09    1638         0.966258\n",
       "6            Southland Region      127300    17.55     112         0.879811\n",
       "7             Gisborne Region      543500    67.52     420         0.772769\n",
       "8          Hawke's Bay Region      513800    21.50     371         0.722071\n",
       "9            Northland Region      246000     7.89     139         0.565041\n",
       "10            Taranaki Region      182700    12.92     100         0.547345\n",
       "11               Otago Region      258200    11.62     139         0.538342\n",
       "12          Wellington Region      102400     3.28      26         0.253906"
      ]
     },
     "execution_count": 16,
     "metadata": {},
     "output_type": "execute_result"
    }
   ],
   "source": [
    "top_regions_ch.sort_values('stolen_per_1000', ascending=False).reset_index(drop=True)"
   ]
  }
 ],
 "metadata": {
  "kernelspec": {
   "display_name": "dev",
   "language": "python",
   "name": "python3"
  },
  "language_info": {
   "codemirror_mode": {
    "name": "ipython",
    "version": 3
   },
   "file_extension": ".py",
   "mimetype": "text/x-python",
   "name": "python",
   "nbconvert_exporter": "python",
   "pygments_lexer": "ipython3",
   "version": "3.10.13"
  }
 },
 "nbformat": 4,
 "nbformat_minor": 2
}
